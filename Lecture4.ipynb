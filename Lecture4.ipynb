{
 "cells": [
  {
   "cell_type": "markdown",
   "metadata": {},
   "source": [
    "# CSX91: Python Tutorial"
   ]
  },
  {
   "cell_type": "markdown",
   "metadata": {},
   "source": [
    "## 1. Functions"
   ]
  },
  {
   "cell_type": "markdown",
   "metadata": {
    "collapsed": true
   },
   "source": [
    "+ Fucntions in Python are created using the keyword `def`\n",
    "+ It can return values with `return`\n",
    "+ Let's create a simple function:"
   ]
  },
  {
   "cell_type": "code",
   "execution_count": null,
   "metadata": {
    "collapsed": false
   },
   "outputs": [],
   "source": [
    "def foo():\n",
    "    return 1\n",
    "foo()"
   ]
  },
  {
   "cell_type": "markdown",
   "metadata": {},
   "source": [
    "***Q. What happens if there is no `return`?***"
   ]
  },
  {
   "cell_type": "markdown",
   "metadata": {},
   "source": [
    "## 2. Scope"
   ]
  },
  {
   "cell_type": "markdown",
   "metadata": {},
   "source": [
    "+ In python functions have their own scope (namespace).\n",
    "+ Python first looks at the function's namespace first before looking at the global namespace.\n",
    "+ Let's use `locals()` and `globals()` to see what happens:"
   ]
  },
  {
   "cell_type": "code",
   "execution_count": 1,
   "metadata": {
    "collapsed": false,
    "scrolled": true
   },
   "outputs": [
    {
     "name": "stdout",
     "output_type": "stream",
     "text": [
      "{'a': 'Local var'}\n",
      "{'_dh': [u'C:\\\\Users\\\\Rahul\\\\git\\\\learnPy'], '__': '', '__builtin__': <module '__builtin__' (built-in)>, 'quit': <IPython.core.autocall.ZMQExitAutocall object at 0x00000000040874A8>, '_i1': u\"aString = 'Global var'\\ndef foo():\\n    a = 'Local var'\\n    print locals()\\n\\nfoo()\\nprint globals()\", 'exit': <IPython.core.autocall.ZMQExitAutocall object at 0x00000000040874A8>, 'get_ipython': <bound method ZMQInteractiveShell.get_ipython of <IPython.kernel.zmq.zmqshell.ZMQInteractiveShell object at 0x000000000403E5F8>>, '_i': u'', 'foo': <function foo at 0x000000000421D5F8>, '__doc__': 'Automatically created module for IPython interactive environment', 'aString': 'Global var', '__builtins__': <module '__builtin__' (built-in)>, '_ih': ['', u\"aString = 'Global var'\\ndef foo():\\n    a = 'Local var'\\n    print locals()\\n\\nfoo()\\nprint globals()\"], '__name__': '__main__', '___': '', '_': '', '_sh': <module 'IPython.core.shadowns' from 'C:\\Users\\Rahul\\Miniconda\\lib\\site-packages\\IPython\\core\\shadowns.pyc'>, '_iii': u'', '_ii': u'', 'In': ['', u\"aString = 'Global var'\\ndef foo():\\n    a = 'Local var'\\n    print locals()\\n\\nfoo()\\nprint globals()\"], '_oh': {}, 'Out': {}}\n"
     ]
    }
   ],
   "source": [
    "aString = 'Global var'\n",
    "def foo():\n",
    "    a = 'Local var'\n",
    "    print locals()\n",
    "\n",
    "foo()\n",
    "print globals()"
   ]
  },
  {
   "cell_type": "code",
   "execution_count": null,
   "metadata": {
    "collapsed": true
   },
   "outputs": [],
   "source": []
  },
  {
   "cell_type": "markdown",
   "metadata": {},
   "source": [
    "## 3. Variable Resolution"
   ]
  },
  {
   "cell_type": "markdown",
   "metadata": {},
   "source": [
    "+ Python first looks at the function's namespace first before looking at the global namespace."
   ]
  },
  {
   "cell_type": "code",
   "execution_count": null,
   "metadata": {
    "collapsed": true
   },
   "outputs": [],
   "source": [
    "aString = 'Global var'\n",
    "def foo():\n",
    "    print aString\n",
    "\n",
    "foo()"
   ]
  },
  {
   "cell_type": "markdown",
   "metadata": {},
   "source": [
    "+ If you try and reassign a global variable inside a function, like so:"
   ]
  },
  {
   "cell_type": "code",
   "execution_count": 2,
   "metadata": {
    "collapsed": false
   },
   "outputs": [
    {
     "name": "stdout",
     "output_type": "stream",
     "text": [
      "Local var\n"
     ]
    }
   ],
   "source": [
    "aString = 'Global var'\n",
    "def foo():\n",
    "    aString = 'Local var'\n",
    "    print aString\n",
    "\n",
    "foo()"
   ]
  },
  {
   "cell_type": "markdown",
   "metadata": {},
   "source": [
    "***Q. What is the value of aString now? For instance, if I did this:***"
   ]
  },
  {
   "cell_type": "code",
   "execution_count": null,
   "metadata": {
    "collapsed": false
   },
   "outputs": [],
   "source": [
    "aString = 'Global var'\n",
    "def foo():\n",
    "    aString = 'Local var'\n",
    "    print aString\n",
    "\n",
    "foo()\n",
    "print aString"
   ]
  },
  {
   "cell_type": "markdown",
   "metadata": {},
   "source": [
    "***What would happen?***"
   ]
  },
  {
   "cell_type": "markdown",
   "metadata": {},
   "source": [
    "+ As we can see, global variables can be accessed (even changed if they are mutable data types) but not (by default) assigned to.\n",
    "+ Global variables are ***very*** dangerous. So, python wants you to be sure of what you're doing.\n",
    "+ If you MUST reassign it. Declare it as ```global```. Like so:"
   ]
  },
  {
   "cell_type": "code",
   "execution_count": 4,
   "metadata": {
    "collapsed": false
   },
   "outputs": [
    {
     "name": "stdout",
     "output_type": "stream",
     "text": [
      "Local var\n",
      "Local var\n"
     ]
    }
   ],
   "source": [
    "aString = 'Global var'\n",
    "def foo():\n",
    "    global aString # <------ Declared here\n",
    "    aString = 'Local var'\n",
    "    print aString\n",
    "\n",
    "def bar():\n",
    "    print aString\n",
    "\n",
    "foo()\n",
    "bar()"
   ]
  },
  {
   "cell_type": "markdown",
   "metadata": {},
   "source": [
    "## 4. Function Arguments: args and kwargs"
   ]
  },
  {
   "cell_type": "markdown",
   "metadata": {},
   "source": [
    "+ Python allows us to pass function arguments (duh..) \n",
    "+ There arguments are local to the function. For instance:"
   ]
  },
  {
   "cell_type": "code",
   "execution_count": null,
   "metadata": {
    "collapsed": false
   },
   "outputs": [],
   "source": [
    "def foo(x):\n",
    "    print locals()\n",
    "\n",
    "foo(1)"
   ]
  },
  {
   "cell_type": "markdown",
   "metadata": {},
   "source": [
    "+ Arguments in functions can be classified as:\n",
    "    - Args\n",
    "    - kwargs (keyword args)\n",
    "+ When calling a function, args are mandatory. kwargs are optional."
   ]
  },
  {
   "cell_type": "code",
   "execution_count": null,
   "metadata": {
    "collapsed": true
   },
   "outputs": [],
   "source": [
    "\"Args\"\n",
    "def foo(x,y):\n",
    "    print x+y\n",
    "\n",
    "\"kwargs\"\n",
    "def bar(x=5, y=8):\n",
    "    print x-y\n",
    "\n",
    "\"Both\"\n",
    "def foobar(x,y=100):\n",
    "    print x*y\n",
    "\n",
    "\"Calling with args\"\n",
    "foo(5,12)\n",
    "\n",
    "\"Calling with kwargs\"\n",
    "bar()\n",
    "\n",
    "\"Calling both\"\n",
    "foobar(10)"
   ]
  },
  {
   "cell_type": "markdown",
   "metadata": {},
   "source": [
    "### Other ways of calling:\n",
    "+ All the following are legit:"
   ]
  },
  {
   "cell_type": "code",
   "execution_count": null,
   "metadata": {
    "collapsed": true
   },
   "outputs": [],
   "source": [
    "\"Args\"\n",
    "def foo(x,y):\n",
    "    print x+y\n",
    "\n",
    "\"kwargs\"\n",
    "def bar(x=5, y=8):\n",
    "    print x-y\n",
    "\n",
    "\"Both\"\n",
    "def foobar(x,y=100):\n",
    "    print x*y\n",
    "\n",
    "\"kwargs\"\n",
    "bar(5,8) # kwargs as args (default: x=5, y=8)\n",
    "bar(5,y=8) # x=5, y=8\n",
    "\"Change the order of kwargs if you want\"\n",
    "bar(y=8, x=5)\n",
    "\n",
    "\"args as kwargs will also work\"\n",
    "foo(x=5, y=12)"
   ]
  },
  {
   "cell_type": "markdown",
   "metadata": {},
   "source": [
    "***Q. will these two work?***"
   ]
  },
  {
   "cell_type": "code",
   "execution_count": 6,
   "metadata": {
    "collapsed": false
   },
   "outputs": [
    {
     "ename": "SyntaxError",
     "evalue": "non-keyword arg after keyword arg (<ipython-input-6-09cfa209b726>, line 14)",
     "output_type": "error",
     "traceback": [
      "\u001b[1;36m  File \u001b[1;32m\"<ipython-input-6-09cfa209b726>\"\u001b[1;36m, line \u001b[1;32m14\u001b[0m\n\u001b[1;33m    foo(x=5, 6) #2\u001b[0m\n\u001b[1;31mSyntaxError\u001b[0m\u001b[1;31m:\u001b[0m non-keyword arg after keyword arg\n"
     ]
    }
   ],
   "source": [
    "\"Args\"\n",
    "def foo(x,y):\n",
    "    print x+y\n",
    "\n",
    "\"kwargs\"\n",
    "def bar(x=5, y=8):\n",
    "    print x-y\n",
    "\n",
    "\"Both\"\n",
    "def foobar(x,y=100):\n",
    "    print x*y\n",
    "\n",
    "bar(x=9, 7) #1\n",
    "foo(x=5, 6) #2\n"
   ]
  },
  {
   "cell_type": "markdown",
   "metadata": {},
   "source": [
    "+ **Never call args after kwargs**"
   ]
  },
  {
   "cell_type": "markdown",
   "metadata": {},
   "source": [
    "## 5. Nesting functions"
   ]
  },
  {
   "cell_type": "markdown",
   "metadata": {},
   "source": [
    "+ You can nest functions.\n",
    "+ Class nesting is somewhat uncommon, but can be done."
   ]
  },
  {
   "cell_type": "code",
   "execution_count": null,
   "metadata": {
    "collapsed": false
   },
   "outputs": [],
   "source": [
    "def outer():\n",
    "    x=1\n",
    "    def inner():\n",
    "        print x\n",
    "    inner()\n",
    "\n",
    "outer()"
   ]
  },
  {
   "cell_type": "markdown",
   "metadata": {},
   "source": [
    "+ All the namespace conventions apply here.\n",
    "\n",
    "### What would happen if I changed x inside `inner()`?"
   ]
  },
  {
   "cell_type": "code",
   "execution_count": 7,
   "metadata": {
    "collapsed": false
   },
   "outputs": [
    {
     "name": "stdout",
     "output_type": "stream",
     "text": [
      "Inner x=2\n",
      "Outer x=1\n"
     ]
    }
   ],
   "source": [
    "def outer():\n",
    "    x = 1\n",
    "    def inner(): \n",
    "        x = 2\n",
    "        print 'Inner x=%d'%(x)\n",
    "    inner()\n",
    "    return x\n",
    "\n",
    "print 'Outer x=%d'%outer()"
   ]
  },
  {
   "cell_type": "markdown",
   "metadata": {
    "collapsed": true
   },
   "source": [
    "***What about global variables?***"
   ]
  },
  {
   "cell_type": "code",
   "execution_count": 9,
   "metadata": {
    "collapsed": false
   },
   "outputs": [
    {
     "name": "stdout",
     "output_type": "stream",
     "text": [
      "Inner x=2\n",
      "Outer x=2\n",
      "Global x=2\n"
     ]
    }
   ],
   "source": [
    "x = 4\n",
    "def outer(): \n",
    "    global x\n",
    "    x = 1\n",
    "    def inner(): \n",
    "        global x\n",
    "        x = 2\n",
    "        print 'Inner x=%d'%(x)\n",
    "    inner()\n",
    "    return x\n",
    "\n",
    "print 'Outer x=%d'%outer()\n",
    "print 'Global x=%d'%x"
   ]
  },
  {
   "cell_type": "markdown",
   "metadata": {},
   "source": [
    "+ Declare global every time the global x needs changing"
   ]
  },
  {
   "cell_type": "markdown",
   "metadata": {},
   "source": [
    "## 6. Classes"
   ]
  },
  {
   "cell_type": "markdown",
   "metadata": {},
   "source": [
    "+ Define classes with the `class` keyword\n",
    "+ Here's a simple class"
   ]
  },
  {
   "cell_type": "code",
   "execution_count": 12,
   "metadata": {
    "collapsed": false
   },
   "outputs": [
    {
     "name": "stdout",
     "output_type": "stream",
     "text": [
      "7 5\n",
      "7\n"
     ]
    }
   ],
   "source": [
    "class foo():\n",
    "    def __init__(i, arg1): # self can br replaced by anything.\n",
    "        i.arg1 = arg1\n",
    "    def bar(i, arg2): # Always use self as the first argument\n",
    "        print i.arg1, arg2\n",
    "\n",
    "FOO = foo(7)\n",
    "\n",
    "FOO.bar(5)\n",
    "\n",
    "print FOO.arg1"
   ]
  },
  {
   "cell_type": "markdown",
   "metadata": {},
   "source": [
    "+ All arg and kwarg conventions apply here"
   ]
  },
  {
   "cell_type": "markdown",
   "metadata": {},
   "source": [
    "### 6.1 Overriding class methods"
   ]
  },
  {
   "cell_type": "markdown",
   "metadata": {},
   "source": [
    "Lets try:"
   ]
  },
  {
   "cell_type": "code",
   "execution_count": 13,
   "metadata": {
    "collapsed": false
   },
   "outputs": [
    {
     "ename": "AttributeError",
     "evalue": "foo instance has no __call__ method",
     "output_type": "error",
     "traceback": [
      "\u001b[1;31m---------------------------------------------------------------------------\u001b[0m",
      "\u001b[1;31mAttributeError\u001b[0m                            Traceback (most recent call last)",
      "\u001b[1;32m<ipython-input-13-47178747a25b>\u001b[0m in \u001b[0;36m<module>\u001b[1;34m()\u001b[0m\n\u001b[0;32m      4\u001b[0m \u001b[1;33m\u001b[0m\u001b[0m\n\u001b[0;32m      5\u001b[0m \u001b[0md\u001b[0m \u001b[1;33m=\u001b[0m \u001b[0mfoo\u001b[0m\u001b[1;33m(\u001b[0m\u001b[1;36m2\u001b[0m\u001b[1;33m)\u001b[0m\u001b[1;33m\u001b[0m\u001b[0m\n\u001b[1;32m----> 6\u001b[1;33m \u001b[0md\u001b[0m\u001b[1;33m(\u001b[0m\u001b[1;33m)\u001b[0m\u001b[1;33m\u001b[0m\u001b[0m\n\u001b[0m",
      "\u001b[1;31mAttributeError\u001b[0m: foo instance has no __call__ method"
     ]
    }
   ],
   "source": [
    "class foo():\n",
    "    def __init__(i, num):\n",
    "        i.num = num\n",
    "\n",
    "d = foo(2)\n",
    "d()"
   ]
  },
  {
   "cell_type": "markdown",
   "metadata": {},
   "source": [
    "+ We know the `__call__` raises an exception. Python lets you redefine it:"
   ]
  },
  {
   "cell_type": "code",
   "execution_count": 14,
   "metadata": {
    "collapsed": false
   },
   "outputs": [
    {
     "data": {
      "text/plain": [
       "2"
      ]
     },
     "execution_count": 14,
     "metadata": {},
     "output_type": "execute_result"
    }
   ],
   "source": [
    "class foo():\n",
    "    def __init__(i, num):\n",
    "        i.num = num\n",
    "    def __call__(i):\n",
    "        return i.num\n",
    "d = foo(2)\n",
    "d()"
   ]
  },
  {
   "cell_type": "markdown",
   "metadata": {},
   "source": [
    "+ There are many such redefinitions permitted by python. See [Python Docs](https://docs.python.org/2/reference/datamodel.html)"
   ]
  },
  {
   "cell_type": "markdown",
   "metadata": {},
   "source": [
    "### 6.2 Emulating numeric types"
   ]
  },
  {
   "cell_type": "markdown",
   "metadata": {},
   "source": [
    "+ A very useful feature in python is the ability to emulate numeric types."
   ]
  },
  {
   "cell_type": "markdown",
   "metadata": {},
   "source": [
    "***Would this work?***"
   ]
  },
  {
   "cell_type": "code",
   "execution_count": 15,
   "metadata": {
    "collapsed": false
   },
   "outputs": [
    {
     "ename": "TypeError",
     "evalue": "unsupported operand type(s) for +=: 'instance' and 'int'",
     "output_type": "error",
     "traceback": [
      "\u001b[1;31m---------------------------------------------------------------------------\u001b[0m",
      "\u001b[1;31mTypeError\u001b[0m                                 Traceback (most recent call last)",
      "\u001b[1;32m<ipython-input-15-26a667f4ea11>\u001b[0m in \u001b[0;36m<module>\u001b[1;34m()\u001b[0m\n\u001b[0;32m      3\u001b[0m         \u001b[0mi\u001b[0m\u001b[1;33m.\u001b[0m\u001b[0mnum\u001b[0m \u001b[1;33m=\u001b[0m \u001b[0mnum\u001b[0m\u001b[1;33m\u001b[0m\u001b[0m\n\u001b[0;32m      4\u001b[0m \u001b[0mFOO\u001b[0m \u001b[1;33m=\u001b[0m \u001b[0mfoo\u001b[0m\u001b[1;33m(\u001b[0m\u001b[1;36m5\u001b[0m\u001b[1;33m)\u001b[0m\u001b[1;33m\u001b[0m\u001b[0m\n\u001b[1;32m----> 5\u001b[1;33m \u001b[0mFOO\u001b[0m \u001b[1;33m+=\u001b[0m \u001b[1;36m1\u001b[0m\u001b[1;33m\u001b[0m\u001b[0m\n\u001b[0m",
      "\u001b[1;31mTypeError\u001b[0m: unsupported operand type(s) for +=: 'instance' and 'int'"
     ]
    }
   ],
   "source": [
    "class foo():\n",
    "    def __init__(i, num):\n",
    "        i.num = num\n",
    "FOO = foo(5)\n",
    "FOO += 1"
   ]
  },
  {
   "cell_type": "markdown",
   "metadata": {},
   "source": [
    "Let's rewrite this:"
   ]
  },
  {
   "cell_type": "code",
   "execution_count": 17,
   "metadata": {
    "collapsed": false
   },
   "outputs": [
    {
     "name": "stdout",
     "output_type": "stream",
     "text": [
      "6\n",
      "2\n"
     ]
    }
   ],
   "source": [
    "class foo():\n",
    "    def __init__(i, num):\n",
    "        i.num = num\n",
    "    def __add__(i, new):\n",
    "        i.num += new\n",
    "        return i\n",
    "    def __sub__(i, new):\n",
    "        i.num -= new\n",
    "        return i\n",
    "\n",
    "FOO = foo(5)\n",
    "FOO += 1\n",
    "print FOO.num\n",
    "FOO -= 4\n",
    "print FOO.num"
   ]
  },
  {
   "cell_type": "markdown",
   "metadata": {},
   "source": [
    "+ Aside: `__repr__` and `__str__` are awesome."
   ]
  },
  {
   "cell_type": "code",
   "execution_count": 27,
   "metadata": {
    "collapsed": false
   },
   "outputs": [
    {
     "name": "stdout",
     "output_type": "stream",
     "text": [
      "Nothing @ 2\n"
     ]
    }
   ],
   "source": [
    "class foo():\n",
    "    \"Me is foo\"\n",
    "    def __init__(i, num):\n",
    "        i.num = num\n",
    "    def __add__(i, new):\n",
    "        i.num += new\n",
    "        return i\n",
    "    def __sub__(i, new):\n",
    "        i.num -= new\n",
    "        return i\n",
    "    def __repr__(i):\n",
    "        return i.__doc__\n",
    "    def __str__(i):\n",
    "        return i.__doc__\n",
    "    def __getitem__(i, num):\n",
    "        print \"Nothing @ %d\"%(num)\n",
    "\n",
    "FOO = foo(4)\n",
    "FOO[2]"
   ]
  }
 ],
 "metadata": {
  "kernelspec": {
   "display_name": "Python 2",
   "language": "python",
   "name": "python2"
  },
  "language_info": {
   "codemirror_mode": {
    "name": "ipython",
    "version": 2
   },
   "file_extension": ".py",
   "mimetype": "text/x-python",
   "name": "python",
   "nbconvert_exporter": "python",
   "pygments_lexer": "ipython2",
   "version": "2.7.9"
  }
 },
 "nbformat": 4,
 "nbformat_minor": 0
}
