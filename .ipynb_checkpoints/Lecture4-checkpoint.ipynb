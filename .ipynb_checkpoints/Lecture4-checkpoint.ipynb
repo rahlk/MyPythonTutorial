{
 "cells": [
  {
   "cell_type": "markdown",
   "metadata": {},
   "source": [
    "# CSX91: Python Tutorial"
   ]
  },
  {
   "cell_type": "markdown",
   "metadata": {},
   "source": [
    "## 1. Functions"
   ]
  },
  {
   "cell_type": "markdown",
   "metadata": {
    "collapsed": true
   },
   "source": [
    "+ Fucntions in Python are created using the keyword `def`\n",
    "+ It can return values with `return`\n",
    "+ Let's create a simple function:"
   ]
  },
  {
   "cell_type": "code",
   "execution_count": null,
   "metadata": {
    "collapsed": false
   },
   "outputs": [],
   "source": [
    "def foo():\n",
    "    return 1\n",
    "foo()"
   ]
  },
  {
   "cell_type": "markdown",
   "metadata": {},
   "source": [
    "***Q. What happens if there is no `return`?***"
   ]
  },
  {
   "cell_type": "markdown",
   "metadata": {},
   "source": [
    "## 2. Scope"
   ]
  },
  {
   "cell_type": "markdown",
   "metadata": {},
   "source": [
    "+ In python functions have their own scope (namespace).\n",
    "+ Python first looks at the function's namespace first before looking at the global namespace.\n",
    "+ Let's use `locals()` and `globals()` to see what happens:"
   ]
  },
  {
   "cell_type": "code",
   "execution_count": null,
   "metadata": {
    "collapsed": false,
    "scrolled": true
   },
   "outputs": [],
   "source": [
    "aString = 'Global var'\n",
    "def foo():\n",
    "    a = 'Local var'\n",
    "    print locals()\n",
    "\n",
    "foo()\n",
    "print globals()"
   ]
  },
  {
   "cell_type": "markdown",
   "metadata": {
    "collapsed": true
   },
   "source": [
    "### 2.1 Variable lifetime"
   ]
  },
  {
   "cell_type": "markdown",
   "metadata": {},
   "source": [
    "Variables within functions exist only withing their namespaces. Once the function stops, all the variables inside it gets destroyed. For instance, the following won't work. "
   ]
  },
  {
   "cell_type": "code",
   "execution_count": null,
   "metadata": {
    "collapsed": true
   },
   "outputs": [],
   "source": [
    "def foo():\n",
    "    x = 10\n",
    "\n",
    "foo()\n",
    "print x"
   ]
  },
  {
   "cell_type": "markdown",
   "metadata": {},
   "source": [
    "## 3. Variable Resolution"
   ]
  },
  {
   "cell_type": "markdown",
   "metadata": {},
   "source": [
    "+ Python first looks at the function's namespace first before looking at the global namespace."
   ]
  },
  {
   "cell_type": "code",
   "execution_count": null,
   "metadata": {
    "collapsed": true
   },
   "outputs": [],
   "source": [
    "aString = 'Global var'\n",
    "def foo():\n",
    "    print aString\n",
    "\n",
    "foo()"
   ]
  },
  {
   "cell_type": "markdown",
   "metadata": {},
   "source": [
    "+ If you try and reassign a global variable inside a function, like so:"
   ]
  },
  {
   "cell_type": "code",
   "execution_count": null,
   "metadata": {
    "collapsed": false
   },
   "outputs": [],
   "source": [
    "aString = 'Global var'\n",
    "def foo():\n",
    "    aString = 'Local var'\n",
    "    print aString\n",
    "\n",
    "foo()"
   ]
  },
  {
   "cell_type": "markdown",
   "metadata": {},
   "source": [
    "***Q. What would be the value of aString now? For instance, if I did this:***"
   ]
  },
  {
   "cell_type": "code",
   "execution_count": null,
   "metadata": {
    "collapsed": false
   },
   "outputs": [],
   "source": []
  },
  {
   "cell_type": "markdown",
   "metadata": {},
   "source": [
    "+ As we can see, global variables can be accessed (even changed if they are mutable data types) but not (by default) assigned to.\n",
    "+ Global variables are ***very*** dangerous. So, python wants you to be sure of what you're doing.\n",
    "+ If you MUST reassign it. Declare it as ```global```. Like so:"
   ]
  },
  {
   "cell_type": "code",
   "execution_count": null,
   "metadata": {
    "collapsed": false
   },
   "outputs": [],
   "source": [
    "aString = 'Global var'\n",
    "def foo():\n",
    "    global aString # <------ Declared here\n",
    "    aString = 'Local var'\n",
    "    print aString\n",
    "\n",
    "def bar():\n",
    "    print aString\n",
    "\n",
    "foo()\n",
    "bar()"
   ]
  },
  {
   "cell_type": "markdown",
   "metadata": {},
   "source": [
    "## 4. Function Arguments: args and kwargs"
   ]
  },
  {
   "cell_type": "markdown",
   "metadata": {},
   "source": [
    "+ Python allows us to pass function arguments (duh..) \n",
    "+ There arguments are local to the function. For instance:"
   ]
  },
  {
   "cell_type": "code",
   "execution_count": null,
   "metadata": {
    "collapsed": false
   },
   "outputs": [],
   "source": [
    "def foo(x):\n",
    "    print locals()\n",
    "\n",
    "foo(1)"
   ]
  },
  {
   "cell_type": "markdown",
   "metadata": {},
   "source": [
    "+ Arguments in functions can be classified as:\n",
    "    - Args\n",
    "    - kwargs (keyword args)\n",
    "+ When calling a function, args are mandatory. kwargs are optional."
   ]
  },
  {
   "cell_type": "code",
   "execution_count": null,
   "metadata": {
    "collapsed": true
   },
   "outputs": [],
   "source": [
    "\"Args\"\n",
    "def foo(x,y):\n",
    "    print x+y\n",
    "\n",
    "\"kwargs\"\n",
    "def bar(x=5, y=8):\n",
    "    print x-y\n",
    "\n",
    "\"Both\"\n",
    "def foobar(x,y=100):\n",
    "    print x*y\n",
    "\n",
    "\"Calling with args\"\n",
    "foo(5,12)\n",
    "\n",
    "\"Calling with kwargs\"\n",
    "bar()\n",
    "\n",
    "\"Calling both\"\n",
    "foobar(10)"
   ]
  },
  {
   "cell_type": "markdown",
   "metadata": {},
   "source": [
    "### Other ways of calling:\n",
    "+ All the following are legit:"
   ]
  },
  {
   "cell_type": "code",
   "execution_count": null,
   "metadata": {
    "collapsed": true
   },
   "outputs": [],
   "source": [
    "\"Args\"\n",
    "def foo(x,y):\n",
    "    print x+y\n",
    "\n",
    "\"kwargs\"\n",
    "def bar(x=5, y=8):\n",
    "    print x-y\n",
    "\n",
    "\"Both\"\n",
    "def foobar(x,y=100):\n",
    "    print x*y\n",
    "\n",
    "\"kwargs\"\n",
    "bar(5,8) # kwargs as args (default: x=5, y=8)\n",
    "bar(5,y=8) # x=5, y=8\n",
    "\"Change the order of kwargs if you want\"\n",
    "bar(y=8, x=5)\n",
    "\n",
    "\"args as kwargs will also work\"\n",
    "foo(x=5, y=12)"
   ]
  },
  {
   "cell_type": "markdown",
   "metadata": {},
   "source": [
    "***Q. will these two work?***"
   ]
  },
  {
   "cell_type": "code",
   "execution_count": null,
   "metadata": {
    "collapsed": false
   },
   "outputs": [],
   "source": [
    "\"Args\"\n",
    "def foo(x,y):\n",
    "    print x+y\n",
    "\n",
    "\"kwargs\"\n",
    "def bar(x=5, y=8):\n",
    "    print x-y\n",
    "\n",
    "\"Both\"\n",
    "def foobar(x,y=100):\n",
    "    print x*y\n",
    "\n",
    "bar(x=9, 7) #1\n",
    "foo(x=5, 6) #2\n"
   ]
  },
  {
   "cell_type": "markdown",
   "metadata": {},
   "source": [
    "+ **Never call args after kwargs**"
   ]
  },
  {
   "cell_type": "markdown",
   "metadata": {},
   "source": [
    "## 5. Nesting functions"
   ]
  },
  {
   "cell_type": "markdown",
   "metadata": {},
   "source": [
    "+ You can nest functions.\n",
    "+ Class nesting is somewhat uncommon, but can be done."
   ]
  },
  {
   "cell_type": "code",
   "execution_count": null,
   "metadata": {
    "collapsed": false
   },
   "outputs": [],
   "source": [
    "def outer():\n",
    "    x=1\n",
    "    def inner():\n",
    "        print x\n",
    "    inner()\n",
    "\n",
    "outer()"
   ]
  },
  {
   "cell_type": "markdown",
   "metadata": {},
   "source": [
    "+ All the namespace conventions apply here.\n",
    "\n",
    "### What would happen if I changed x inside `inner()`?"
   ]
  },
  {
   "cell_type": "code",
   "execution_count": null,
   "metadata": {
    "collapsed": false
   },
   "outputs": [],
   "source": [
    "def outer():\n",
    "    x = 1\n",
    "    def inner(): \n",
    "        x = 2\n",
    "        print 'Inner x=%d'%(x)\n",
    "    inner()\n",
    "    return x\n",
    "\n",
    "print 'Outer x=%d'%outer()"
   ]
  },
  {
   "cell_type": "markdown",
   "metadata": {
    "collapsed": true
   },
   "source": [
    "***What about global variables?***"
   ]
  },
  {
   "cell_type": "code",
   "execution_count": null,
   "metadata": {
    "collapsed": false
   },
   "outputs": [],
   "source": [
    "x = 4\n",
    "def outer(): \n",
    "    global x\n",
    "    x = 1\n",
    "    def inner(): \n",
    "        global x\n",
    "        x = 2\n",
    "        print 'Inner x=%d'%(x)\n",
    "    inner()\n",
    "    return x\n",
    "\n",
    "print 'Outer x=%d'%outer()\n",
    "print 'Global x=%d'%x"
   ]
  },
  {
   "cell_type": "markdown",
   "metadata": {},
   "source": [
    "+ Declare global every time the global x needs changing"
   ]
  },
  {
   "cell_type": "markdown",
   "metadata": {},
   "source": [
    "## 6. Classes"
   ]
  },
  {
   "cell_type": "markdown",
   "metadata": {},
   "source": [
    "+ Define classes with the `class` keyword\n",
    "+ Here's a simple class"
   ]
  },
  {
   "cell_type": "code",
   "execution_count": null,
   "metadata": {
    "collapsed": false
   },
   "outputs": [],
   "source": [
    "class foo():\n",
    "    def __init__(i, arg1): # self can br replaced by anything.\n",
    "        i.arg1 = arg1\n",
    "    def bar(i, arg2): # Always use self as the first argument\n",
    "        print i.arg1, arg2\n",
    "\n",
    "FOO = foo(7)\n",
    "\n",
    "FOO.bar(5)\n",
    "\n",
    "print FOO.arg1"
   ]
  },
  {
   "cell_type": "markdown",
   "metadata": {},
   "source": [
    "+ All arg and kwarg conventions apply here"
   ]
  },
  {
   "cell_type": "markdown",
   "metadata": {},
   "source": [
    "### 6.1 Overriding class methods"
   ]
  },
  {
   "cell_type": "markdown",
   "metadata": {},
   "source": [
    "Lets try:"
   ]
  },
  {
   "cell_type": "code",
   "execution_count": null,
   "metadata": {
    "collapsed": false
   },
   "outputs": [],
   "source": [
    "class foo():\n",
    "    def __init__(i, num):\n",
    "        i.num = num\n",
    "\n",
    "d = foo(2)\n",
    "d()"
   ]
  },
  {
   "cell_type": "markdown",
   "metadata": {},
   "source": [
    "+ We know the `__call__` raises an exception. Python lets you redefine it:"
   ]
  },
  {
   "cell_type": "code",
   "execution_count": null,
   "metadata": {
    "collapsed": false
   },
   "outputs": [],
   "source": [
    "class foo():\n",
    "    def __init__(i, num):\n",
    "        i.num = num\n",
    "    def __call__(i):\n",
    "        return i.num\n",
    "d = foo(2)\n",
    "d()"
   ]
  },
  {
   "cell_type": "markdown",
   "metadata": {},
   "source": [
    "+ There are many such redefinitions permitted by python. See [Python Docs](https://docs.python.org/2/reference/datamodel.html)"
   ]
  },
  {
   "cell_type": "markdown",
   "metadata": {},
   "source": [
    "### 6.2 Emulating numeric types"
   ]
  },
  {
   "cell_type": "markdown",
   "metadata": {},
   "source": [
    "+ A very useful feature in python is the ability to emulate numeric types."
   ]
  },
  {
   "cell_type": "markdown",
   "metadata": {},
   "source": [
    "***Would this work?***"
   ]
  },
  {
   "cell_type": "code",
   "execution_count": null,
   "metadata": {
    "collapsed": false
   },
   "outputs": [],
   "source": [
    "class foo():\n",
    "    def __init__(i, num):\n",
    "        i.num = num\n",
    "FOO = foo(5)\n",
    "FOO += 1"
   ]
  },
  {
   "cell_type": "markdown",
   "metadata": {},
   "source": [
    "Let's rewrite this:"
   ]
  },
  {
   "cell_type": "code",
   "execution_count": null,
   "metadata": {
    "collapsed": false
   },
   "outputs": [],
   "source": [
    "class foo():\n",
    "    def __init__(i, num):\n",
    "        i.num = num\n",
    "    def __add__(i, new):\n",
    "        i.num += new\n",
    "        return i\n",
    "    def __sub__(i, new):\n",
    "        i.num -= new\n",
    "        return i\n",
    "\n",
    "FOO = foo(5)\n",
    "FOO += 1\n",
    "print FOO.num\n",
    "FOO -= 4\n",
    "print FOO.num"
   ]
  },
  {
   "cell_type": "markdown",
   "metadata": {},
   "source": [
    "+ Aside: `__repr__`, `__call__`,`__getitem__`,...  are all awesome."
   ]
  },
  {
   "cell_type": "code",
   "execution_count": null,
   "metadata": {
    "collapsed": false
   },
   "outputs": [],
   "source": [
    "class foo():\n",
    "    \"Me is foo\"\n",
    "    def __init__(i, num):\n",
    "        i.num = num\n",
    "    def __add__(i, new):\n",
    "        i.num += new\n",
    "        return i\n",
    "    def __sub__(i, new):\n",
    "        i.num -= new\n",
    "        return i\n",
    "    def __repr__(i):\n",
    "        return i.__doc__\n",
    "    def __getitem__(i, num):\n",
    "        print \"Nothing @ %d\"%(num)\n",
    "\n",
    "FOO = foo(4)\n",
    "FOO[2]"
   ]
  },
  {
   "cell_type": "markdown",
   "metadata": {},
   "source": [
    "## 7. Functions and Class are Objects"
   ]
  },
  {
   "cell_type": "markdown",
   "metadata": {},
   "source": [
    "+ Functions and objects are like anything else in python.\n",
    "+ All objects inherit from a base class in python.\n",
    "+ For instance,"
   ]
  },
  {
   "cell_type": "code",
   "execution_count": null,
   "metadata": {
    "collapsed": false
   },
   "outputs": [],
   "source": [
    "issubclass(int, object)"
   ]
  },
  {
   "cell_type": "markdown",
   "metadata": {},
   "source": [
    "+ It follows that the variable `a` here is a class."
   ]
  },
  {
   "cell_type": "code",
   "execution_count": null,
   "metadata": {
    "collapsed": true
   },
   "outputs": [],
   "source": [
    "a = 9\n",
    "dir(a)"
   ]
  },
  {
   "cell_type": "markdown",
   "metadata": {},
   "source": [
    "+ This means: \n",
    "  - Functions and Classes can be passed as arguments.\n",
    "  - Functions can return other functions/classes.  "
   ]
  },
  {
   "cell_type": "code",
   "execution_count": null,
   "metadata": {
    "collapsed": false
   },
   "outputs": [],
   "source": [
    "from pdb import set_trace # pdb is quite useful\n",
    "\n",
    "def add(x,y): return x+y\n",
    "def sub(x,y): return x-y\n",
    "def foo(x,y,func=add): \n",
    "    set_trace()\n",
    "    return func(x,y)\n",
    "\n",
    "foo(7,4,sub)"
   ]
  },
  {
   "cell_type": "markdown",
   "metadata": {},
   "source": [
    "## 8. Closures"
   ]
  },
  {
   "cell_type": "markdown",
   "metadata": {},
   "source": [
    "Remember this example?"
   ]
  },
  {
   "cell_type": "code",
   "execution_count": null,
   "metadata": {
    "collapsed": false
   },
   "outputs": [],
   "source": [
    "def foo():\n",
    "    x=1\n",
    "    \n",
    "foo()\n",
    "print x"
   ]
  },
  {
   "cell_type": "markdown",
   "metadata": {},
   "source": [
    "Obviously, this fails. Why? As per variable lifetime rules (see [2.1](http://localhost:8888/notebooks/Lecture4.ipynb#2.1-Variable-lifetime)), `foo()` has ceased execution, `x` is destroyed.\n",
    "\n",
    "***So how about this?***"
   ]
  },
  {
   "cell_type": "code",
   "execution_count": null,
   "metadata": {
    "collapsed": false
   },
   "outputs": [],
   "source": [
    "def foo():\n",
    "    x='Outer String'\n",
    "    def bar():\n",
    "        print x\n",
    "    return bar\n",
    "\n",
    "test = foo()\n",
    "\n",
    "test()"
   ]
  },
  {
   "cell_type": "markdown",
   "metadata": {},
   "source": [
    "***This works. But it shouldn't, because `x` is local to `foo()`, when `foo()` has ceased execution, `x` must be destroyed. Right?***\n",
    "Turns out, Python supports a feature called **function closure**. This enables nested *inner* functions to keep track of their namespaces."
   ]
  },
  {
   "cell_type": "markdown",
   "metadata": {},
   "source": [
    "### 8.1 Aside: lambda functions and sorted"
   ]
  },
  {
   "cell_type": "markdown",
   "metadata": {},
   "source": [
    "+ Anonymous functions in python can be defined using the `lambda` keyword.\n",
    "+ The following two are the same:"
   ]
  },
  {
   "cell_type": "code",
   "execution_count": null,
   "metadata": {
    "collapsed": false
   },
   "outputs": [],
   "source": [
    "def foo(x,y): return x**y\n",
    "\n",
    "bar = lambda x,y: x**y # <--- Notice no return statements\n",
    "\n",
    "print foo(4,2)\n",
    "print bar(4,2)"
   ]
  },
  {
   "cell_type": "markdown",
   "metadata": {},
   "source": [
    "+ Nested `lambda` is permitted (idk why you'd use them, still, worth a mention)"
   ]
  },
  {
   "cell_type": "code",
   "execution_count": null,
   "metadata": {
    "collapsed": false
   },
   "outputs": [],
   "source": [
    "foo = lambda x: lambda y: x+y\n",
    "print foo(3)(5)"
   ]
  },
  {
   "cell_type": "markdown",
   "metadata": {},
   "source": [
    "#### 8.1.1 Sorted"
   ]
  },
  {
   "cell_type": "markdown",
   "metadata": {},
   "source": [
    "+ Python's sorted function can sort based on a `key` argument, `key` is a lambda function that deterimes how the data is sorted."
   ]
  },
  {
   "cell_type": "code",
   "execution_count": null,
   "metadata": {
    "collapsed": false
   },
   "outputs": [],
   "source": [
    "student_tuples = [ #(Name, height(cms), weight(kg))\n",
    "        ('john', 180, 85),\n",
    "        ('doe', 177, 99),\n",
    "        ('jane', 169, 69),\n",
    "]\n",
    "\n",
    "# Sort based on height\n",
    "print 'Weight: ', sorted(student_tuples,  key=lambda stud: stud[1])\n",
    "\n",
    "# Sort based on Name\n",
    "print 'Name: ', sorted(student_tuples, key=lambda stud: stud[0])\n",
    "\n",
    "# Sort based on BMI\n",
    "print 'BMI: ', sorted(student_tuples, key=lambda stud: stud[2]*100/stud[1])\n",
    "\n"
   ]
  },
  {
   "cell_type": "markdown",
   "metadata": {},
   "source": [
    "## 9. Decorators!"
   ]
  },
  {
   "cell_type": "markdown",
   "metadata": {},
   "source": [
    "+ Decorators are callables that take a function as argument, and return a replacement function (with additional functionalities)"
   ]
  },
  {
   "cell_type": "code",
   "execution_count": null,
   "metadata": {
    "collapsed": false
   },
   "outputs": [],
   "source": [
    "def outer(func):\n",
    "    def inner(*args):\n",
    "        \"Inner\"\n",
    "        print 'Decorating...'\n",
    "        ret = func()\n",
    "        ret += 1\n",
    "        return ret\n",
    "    return inner\n",
    "\n",
    "def foo():\n",
    "    \"I'm foo\"\n",
    "    return 1\n",
    "\n",
    "print foo()\n",
    "\n",
    "decorated_foo = outer(foo)\n",
    "\n",
    "print decorated_foo()"
   ]
  },
  {
   "cell_type": "markdown",
   "metadata": {},
   "source": [
    "+ Lets look at memory locations of the functions."
   ]
  },
  {
   "cell_type": "code",
   "execution_count": null,
   "metadata": {
    "collapsed": false
   },
   "outputs": [],
   "source": [
    "def outer(func):\n",
    "    def inner(*args):\n",
    "        \"Inner\"\n",
    "        print 'Decorating...'\n",
    "        ret = func()\n",
    "        ret += 1\n",
    "        return ret\n",
    "    print inner.__doc__, inner\n",
    "    return inner\n",
    "\n",
    "def foo():\n",
    "    \"I'm foo\"\n",
    "    return 1\n",
    "\n",
    "print foo.__name__, foo\n",
    "\n",
    "decorated_foo = outer(foo)\n",
    "\n",
    "print decorated_foo.__name__, decorated_foo"
   ]
  },
  {
   "cell_type": "markdown",
   "metadata": {},
   "source": [
    "+ A common practice is to replace the original function with the decorated function"
   ]
  },
  {
   "cell_type": "code",
   "execution_count": null,
   "metadata": {
    "collapsed": false
   },
   "outputs": [],
   "source": [
    "def outer(func):\n",
    "    def inner():\n",
    "        \"Inner\"\n",
    "        print 'Decorating...'\n",
    "        ret = func()\n",
    "        ret += 1\n",
    "        return ret\n",
    "    return inner\n",
    "\n",
    "def foo():\n",
    "    \"I'm foo\"\n",
    "    return 1\n",
    "\n",
    "print foo()\n",
    "foo = outer(foo)\n",
    "\n",
    "print foo()"
   ]
  },
  {
   "cell_type": "markdown",
   "metadata": {},
   "source": [
    "+ Python uses `@` to represent `foo = outer(foo)`. The above code can be retwritten as follows:"
   ]
  },
  {
   "cell_type": "code",
   "execution_count": null,
   "metadata": {
    "collapsed": false
   },
   "outputs": [],
   "source": [
    "def outer(func):\n",
    "    def inner():\n",
    "        \"Inner\"\n",
    "        print 'Decorating...'\n",
    "        ret = func()\n",
    "        ret += 1\n",
    "        return ret\n",
    "    return inner\n",
    "\n",
    "@outer\n",
    "def foo():\n",
    "    \"I'm foo\"\n",
    "    return 1\n",
    "\n",
    "print foo()\n"
   ]
  },
  {
   "cell_type": "markdown",
   "metadata": {},
   "source": [
    "### 9.1 Logging and timing a function"
   ]
  },
  {
   "cell_type": "markdown",
   "metadata": {},
   "source": [
    "+ Decorators can be classes, they can take input arguments/keyword args."
   ]
  },
  {
   "cell_type": "markdown",
   "metadata": {},
   "source": [
    "+ Lets build a decorator that logs and times another function"
   ]
  },
  {
   "cell_type": "code",
   "execution_count": 43,
   "metadata": {
    "collapsed": false
   },
   "outputs": [
    {
     "name": "stdout",
     "output_type": "stream",
     "text": [
      "Arguments were: (2, 3), {}\n"
     ]
    },
    {
     "ename": "NameError",
     "evalue": "global name 'set_trace' is not defined",
     "output_type": "error",
     "traceback": [
      "\u001b[0;31m---------------------------------------------------------------------------\u001b[0m",
      "\u001b[0;31mNameError\u001b[0m                                 Traceback (most recent call last)",
      "\u001b[0;32m<ipython-input-43-7824e73b97fe>\u001b[0m in \u001b[0;36m<module>\u001b[0;34m()\u001b[0m\n\u001b[1;32m     29\u001b[0m     \u001b[0;32mreturn\u001b[0m \u001b[0ma\u001b[0m\u001b[0;34m-\u001b[0m\u001b[0mb\u001b[0m\u001b[0;34m\u001b[0m\u001b[0m\n\u001b[1;32m     30\u001b[0m \u001b[0;34m\u001b[0m\u001b[0m\n\u001b[0;32m---> 31\u001b[0;31m \u001b[0mfoo\u001b[0m\u001b[0;34m(\u001b[0m\u001b[0;36m2\u001b[0m\u001b[0;34m,\u001b[0m\u001b[0;36m3\u001b[0m\u001b[0;34m)\u001b[0m\u001b[0;34m\u001b[0m\u001b[0m\n\u001b[0m\u001b[1;32m     32\u001b[0m \u001b[0mbar\u001b[0m\u001b[0;34m(\u001b[0m\u001b[0;36m5\u001b[0m\u001b[0;34m,\u001b[0m\u001b[0;36m7\u001b[0m\u001b[0;34m)\u001b[0m\u001b[0;34m\u001b[0m\u001b[0m\n",
      "\u001b[0;32m<ipython-input-43-7824e73b97fe>\u001b[0m in \u001b[0;36minner\u001b[0;34m(*args, **kwargs)\u001b[0m\n\u001b[1;32m      4\u001b[0m     \u001b[0;32mdef\u001b[0m \u001b[0minner\u001b[0m\u001b[0;34m(\u001b[0m\u001b[0;34m*\u001b[0m\u001b[0margs\u001b[0m\u001b[0;34m,\u001b[0m \u001b[0;34m**\u001b[0m\u001b[0mkwargs\u001b[0m\u001b[0;34m)\u001b[0m\u001b[0;34m:\u001b[0m\u001b[0;34m\u001b[0m\u001b[0m\n\u001b[1;32m      5\u001b[0m         \u001b[0;32mprint\u001b[0m \u001b[0;34m\"Arguments were: %s, %s\"\u001b[0m\u001b[0;34m%\u001b[0m\u001b[0;34m(\u001b[0m\u001b[0margs\u001b[0m\u001b[0;34m,\u001b[0m \u001b[0mkwargs\u001b[0m\u001b[0;34m)\u001b[0m\u001b[0;34m\u001b[0m\u001b[0m\n\u001b[0;32m----> 6\u001b[0;31m         \u001b[0;32mreturn\u001b[0m \u001b[0mfunc\u001b[0m\u001b[0;34m(\u001b[0m\u001b[0;34m*\u001b[0m\u001b[0margs\u001b[0m\u001b[0;34m,\u001b[0m \u001b[0;34m**\u001b[0m\u001b[0mkwargs\u001b[0m\u001b[0;34m)\u001b[0m\u001b[0;34m\u001b[0m\u001b[0m\n\u001b[0m\u001b[1;32m      7\u001b[0m     \u001b[0;32mreturn\u001b[0m \u001b[0minner\u001b[0m\u001b[0;34m\u001b[0m\u001b[0m\n\u001b[1;32m      8\u001b[0m \u001b[0;34m\u001b[0m\u001b[0m\n",
      "\u001b[0;32m<ipython-input-43-7824e73b97fe>\u001b[0m in \u001b[0;36minner\u001b[0;34m(*args, **kwargs)\u001b[0m\n\u001b[1;32m     10\u001b[0m     \u001b[0;32mdef\u001b[0m \u001b[0minner\u001b[0m\u001b[0;34m(\u001b[0m\u001b[0;34m*\u001b[0m\u001b[0margs\u001b[0m\u001b[0;34m,\u001b[0m \u001b[0;34m**\u001b[0m\u001b[0mkwargs\u001b[0m\u001b[0;34m)\u001b[0m\u001b[0;34m:\u001b[0m\u001b[0;34m\u001b[0m\u001b[0m\n\u001b[1;32m     11\u001b[0m         \u001b[0mt\u001b[0m\u001b[0;34m=\u001b[0m\u001b[0mtime\u001b[0m\u001b[0;34m.\u001b[0m\u001b[0mclock\u001b[0m\u001b[0;34m(\u001b[0m\u001b[0;34m)\u001b[0m\u001b[0;34m\u001b[0m\u001b[0m\n\u001b[0;32m---> 12\u001b[0;31m         \u001b[0mset_trace\u001b[0m\u001b[0;34m(\u001b[0m\u001b[0;34m)\u001b[0m\u001b[0;34m\u001b[0m\u001b[0m\n\u001b[0m\u001b[1;32m     13\u001b[0m         \u001b[0mfunc\u001b[0m\u001b[0;34m(\u001b[0m\u001b[0;34m*\u001b[0m\u001b[0margs\u001b[0m\u001b[0;34m,\u001b[0m \u001b[0;34m**\u001b[0m\u001b[0mkwargs\u001b[0m\u001b[0;34m)\u001b[0m\u001b[0;34m\u001b[0m\u001b[0m\n\u001b[1;32m     14\u001b[0m         \u001b[0;32mprint\u001b[0m \u001b[0;34m\"Time taken: %0.2f sec\"\u001b[0m\u001b[0;34m%\u001b[0m\u001b[0;34m(\u001b[0m\u001b[0mtime\u001b[0m\u001b[0;34m.\u001b[0m\u001b[0mclock\u001b[0m\u001b[0;34m(\u001b[0m\u001b[0;34m)\u001b[0m\u001b[0;34m-\u001b[0m\u001b[0mt\u001b[0m\u001b[0;34m)\u001b[0m\u001b[0;34m\u001b[0m\u001b[0m\n",
      "\u001b[0;31mNameError\u001b[0m: global name 'set_trace' is not defined"
     ]
    }
   ],
   "source": [
    "import time\n",
    "from pdb import set_trace\n",
    "def logger(func):\n",
    "    def inner(*args, **kwargs):\n",
    "        print \"Arguments were: %s, %s\"%(args, kwargs)\n",
    "        return func(*args, **kwargs)\n",
    "    return inner\n",
    "\n",
    "def timer(func):\n",
    "    def inner(*args, **kwargs):\n",
    "        t=time.clock()\n",
    "        set_trace()\n",
    "        func(*args, **kwargs)\n",
    "        print \"Time taken: %0.2f sec\"%(time.clock()-t)\n",
    "        return func(*args, **kwargs)\n",
    "    return inner\n",
    "\n",
    "@logger\n",
    "@timer\n",
    "def foo(a=5, b=2):\n",
    "    time.sleep(2)\n",
    "    return a+b\n",
    "\n",
    "\n",
    "@logger\n",
    "@timer\n",
    "def bar(a=10, b=1):\n",
    "    time.sleep(1)\n",
    "    return a-b\n",
    "\n",
    "foo(2,3)\n",
    "bar(5,7)"
   ]
  }
 ],
 "metadata": {
  "kernelspec": {
   "display_name": "Python 2",
   "language": "python",
   "name": "python2"
  },
  "language_info": {
   "codemirror_mode": {
    "name": "ipython",
    "version": 2
   },
   "file_extension": ".py",
   "mimetype": "text/x-python",
   "name": "python",
   "nbconvert_exporter": "python",
   "pygments_lexer": "ipython2",
   "version": "2.7.10"
  }
 },
 "nbformat": 4,
 "nbformat_minor": 0
}
