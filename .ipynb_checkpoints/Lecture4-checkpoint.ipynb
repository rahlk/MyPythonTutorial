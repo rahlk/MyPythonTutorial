{
 "cells": [
  {
   "cell_type": "markdown",
   "metadata": {},
   "source": [
    "# CSX91: Python Tutorial"
   ]
  },
  {
   "cell_type": "markdown",
   "metadata": {},
   "source": [
    "## 1. Functions"
   ]
  },
  {
   "cell_type": "markdown",
   "metadata": {
    "collapsed": true
   },
   "source": [
    "+ Fucntions in Python are created using the keyword `def`\n",
    "+ It can return values with `return`\n",
    "+ Let's create a simple function:"
   ]
  },
  {
   "cell_type": "code",
   "execution_count": null,
   "metadata": {
    "collapsed": false
   },
   "outputs": [],
   "source": [
    "def foo():\n",
    "    return 1\n",
    "foo()"
   ]
  },
  {
   "cell_type": "markdown",
   "metadata": {},
   "source": [
    "***Q. What happens if there is no `return`?***"
   ]
  },
  {
   "cell_type": "markdown",
   "metadata": {},
   "source": [
    "## 2. Scope"
   ]
  },
  {
   "cell_type": "markdown",
   "metadata": {},
   "source": [
    "+ In python functions have their own scope (namespace).\n",
    "+ Python first looks at the function's namespace first before looking at the global namespace.\n",
    "+ Let's use `locals()` and `globals()` to see what happens:"
   ]
  },
  {
   "cell_type": "code",
   "execution_count": null,
   "metadata": {
    "collapsed": false
   },
   "outputs": [],
   "source": [
    "aString = 'Global var'\n",
    "def foo():\n",
    "    a = 'Local var'\n",
    "    print locals()\n",
    "\n",
    "foo()\n",
    "print globals()"
   ]
  },
  {
   "cell_type": "markdown",
   "metadata": {},
   "source": [
    "## 3. Variable Resolution"
   ]
  },
  {
   "cell_type": "markdown",
   "metadata": {},
   "source": [
    "+ Python first looks at the function's namespace first before looking at the global namespace."
   ]
  },
  {
   "cell_type": "code",
   "execution_count": null,
   "metadata": {
    "collapsed": true
   },
   "outputs": [],
   "source": [
    "aString = 'Global var'\n",
    "def foo():\n",
    "    print aString\n",
    "\n",
    "foo()"
   ]
  },
  {
   "cell_type": "markdown",
   "metadata": {},
   "source": [
    "+ If you try and reassign a global variable inside a function, like so:"
   ]
  },
  {
   "cell_type": "code",
   "execution_count": null,
   "metadata": {
    "collapsed": true
   },
   "outputs": [],
   "source": [
    "aString = 'Global var'\n",
    "def foo():\n",
    "    aString = 'Local var'\n",
    "    print aString\n",
    "\n",
    "foo()"
   ]
  },
  {
   "cell_type": "markdown",
   "metadata": {},
   "source": [
    "***Q. What is the value of aString now? For instance, if I did this:***"
   ]
  },
  {
   "cell_type": "code",
   "execution_count": null,
   "metadata": {
    "collapsed": false
   },
   "outputs": [],
   "source": [
    "aString = 'Global var'\n",
    "def foo():\n",
    "    aString = 'Local var'\n",
    "    print aString\n",
    "\n",
    "foo()\n",
    "print aString"
   ]
  },
  {
   "cell_type": "markdown",
   "metadata": {},
   "source": [
    "***What would happen?***"
   ]
  },
  {
   "cell_type": "markdown",
   "metadata": {},
   "source": [
    "+ As we can see, global variables can be accessed (even changed if they are mutable data types) but not (by default) assigned to.\n",
    "+ Global variables are ***very*** dangerous. So, python wants you to be sure of what you're doing.\n",
    "+ If you MUST reassign it. Declare it as ```global```. Like so:"
   ]
  },
  {
   "cell_type": "code",
   "execution_count": null,
   "metadata": {
    "collapsed": false
   },
   "outputs": [],
   "source": [
    "aString = 'Global var'\n",
    "def foo():\n",
    "    global aString # <------ Declared here\n",
    "    aString = 'Local var'\n",
    "    print aString\n",
    "\n",
    "def bar():\n",
    "    print aString\n",
    "\n",
    "foo()\n",
    "bar()"
   ]
  },
  {
   "cell_type": "markdown",
   "metadata": {},
   "source": [
    "## Function Arguments: args and kwargs"
   ]
  },
  {
   "cell_type": "markdown",
   "metadata": {},
   "source": [
    "+ Python allows us to pass function arguments (duh..) \n",
    "+ There arguments are local to the function. For instance:"
   ]
  },
  {
   "cell_type": "code",
   "execution_count": null,
   "metadata": {
    "collapsed": false
   },
   "outputs": [],
   "source": [
    "def foo(x):\n",
    "    print locals()\n",
    "\n",
    "foo(1)"
   ]
  },
  {
   "cell_type": "markdown",
   "metadata": {},
   "source": [
    "+ Arguments in functions can be classified as:\n",
    "    - Args\n",
    "    - kwargs (keyword args)\n",
    "+ When calling a function, args are mandatory. kwargs are optional."
   ]
  },
  {
   "cell_type": "code",
   "execution_count": null,
   "metadata": {
    "collapsed": true
   },
   "outputs": [],
   "source": [
    "\"Args\"\n",
    "def foo(x,y):\n",
    "    print x+y\n",
    "\n",
    "\"kwargs\"\n",
    "def bar(x=5, y=8):\n",
    "    print x-y\n",
    "\n",
    "\"Both\"\n",
    "def foobar(x,y=100):\n",
    "    print x*y\n",
    "\n",
    "\"Calling with args\"\n",
    "foo(5,12)\n",
    "\n",
    "\"Calling with kwargs\"\n",
    "bar()\n",
    "\n",
    "\"Calling both\"\n",
    "foobar(10)"
   ]
  },
  {
   "cell_type": "markdown",
   "metadata": {},
   "source": [
    "### Other ways of calling:\n",
    "+ All the following are legit:"
   ]
  },
  {
   "cell_type": "code",
   "execution_count": null,
   "metadata": {
    "collapsed": true
   },
   "outputs": [],
   "source": [
    "\"Args\"\n",
    "def foo(x,y):\n",
    "    print x+y\n",
    "\n",
    "\"kwargs\"\n",
    "def bar(x=5, y=8):\n",
    "    print x-y\n",
    "\n",
    "\"Both\"\n",
    "def foobar(x,y=100):\n",
    "    print x*y\n",
    "\n",
    "\"kwargs\"\n",
    "bar(5,8) # kwargs as args (default: x=5, y=8)\n",
    "bar(5,y=8) # x=5, y=8\n",
    "\"Change the order of kwargs if you want\"\n",
    "bar(y=8, x=5)\n",
    "\n",
    "\"args as kwargs will also work\"\n",
    "foo(x=5, y=12)"
   ]
  },
  {
   "cell_type": "markdown",
   "metadata": {},
   "source": [
    "***Q. will these two work?***"
   ]
  },
  {
   "cell_type": "code",
   "execution_count": null,
   "metadata": {
    "collapsed": false
   },
   "outputs": [],
   "source": [
    "\"Args\"\n",
    "def foo(x,y):\n",
    "    print x+y\n",
    "\n",
    "\"kwargs\"\n",
    "def bar(x=5, y=8):\n",
    "    print x-y\n",
    "\n",
    "\"Both\"\n",
    "def foobar(x,y=100):\n",
    "    print x*y\n",
    "\n",
    "bar(x=9,y) #1\n",
    "foo(x=5, y) #2\n"
   ]
  },
  {
   "cell_type": "markdown",
   "metadata": {},
   "source": [
    "+ **Never call args after kwargs**"
   ]
  },
  {
   "cell_type": "markdown",
   "metadata": {},
   "source": [
    "## Nesting functions"
   ]
  },
  {
   "cell_type": "markdown",
   "metadata": {},
   "source": [
    "+ You can nest functions.\n",
    "+ Class nesting is somewhat uncommon, but can be done."
   ]
  },
  {
   "cell_type": "code",
   "execution_count": 24,
   "metadata": {
    "collapsed": false
   },
   "outputs": [
    {
     "name": "stdout",
     "output_type": "stream",
     "text": [
      "1\n"
     ]
    }
   ],
   "source": [
    "def outer():\n",
    "    x=1\n",
    "    def inner():\n",
    "        print x\n",
    "    inner()\n",
    "\n",
    "outer()"
   ]
  },
  {
   "cell_type": "markdown",
   "metadata": {},
   "source": [
    "+ All the namespace conditions apply here.\n",
    "\n",
    "### What would happen if I changed x inside `inner()`?"
   ]
  },
  {
   "cell_type": "code",
   "execution_count": 39,
   "metadata": {
    "collapsed": false
   },
   "outputs": [
    {
     "name": "stdout",
     "output_type": "stream",
     "text": [
      "Inner x=2\n",
      "Outer x=1\n"
     ]
    }
   ],
   "source": [
    "def outer():\n",
    "    x = 1\n",
    "    def inner(): \n",
    "        x = 2\n",
    "        print 'Inner x=%d'%(x)\n",
    "    inner()\n",
    "    return x\n",
    "\n",
    "print 'Outer x=%d'%outer()"
   ]
  },
  {
   "cell_type": "code",
   "execution_count": null,
   "metadata": {
    "collapsed": true
   },
   "outputs": [],
   "source": [
    "### What about global variables?"
   ]
  },
  {
   "cell_type": "code",
   "execution_count": 42,
   "metadata": {
    "collapsed": false
   },
   "outputs": [
    {
     "name": "stdout",
     "output_type": "stream",
     "text": [
      "Inner x=2\n",
      "Outer x=1\n",
      "Global x=1\n"
     ]
    }
   ],
   "source": [
    "x = 4\n",
    "def outer(): \n",
    "    global x\n",
    "    x = 1\n",
    "    def inner(): \n",
    "        x = 2\n",
    "        print 'Inner x=%d'%(x)\n",
    "    inner()\n",
    "    return x\n",
    "\n",
    "print 'Outer x=%d'%outer()\n",
    "print 'Global x=%d'%x"
   ]
  }
 ],
 "metadata": {
  "kernelspec": {
   "display_name": "Python 2",
   "language": "python",
   "name": "python2"
  },
  "language_info": {
   "codemirror_mode": {
    "name": "ipython",
    "version": 2
   },
   "file_extension": ".py",
   "mimetype": "text/x-python",
   "name": "python",
   "nbconvert_exporter": "python",
   "pygments_lexer": "ipython2",
   "version": "2.7.10"
  }
 },
 "nbformat": 4,
 "nbformat_minor": 0
}
